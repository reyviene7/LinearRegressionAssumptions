{
 "cells": [
  {
   "cell_type": "code",
   "execution_count": 4,
   "metadata": {},
   "outputs": [],
   "source": [
    "import numpy as np\n",
    "import pandas as pd\n",
    "import matplotlib.pyplot as plt\n",
    "import seaborn as sns\n",
    "from sklearn import datasets\n",
    "%matplotlib inline\n",
    "\n",
    "# Load Boston dataset from a CSV file\n",
    "url = \"https://raw.githubusercontent.com/selva86/datasets/master/BostonHousing.csv\"\n",
    "boston_df = pd.read_csv(url)\n",
    "\n",
    "# Rename target column from 'medv' (median value) to 'HousePrice'\n",
    "boston_df.rename(columns={'medv': 'HousePrice'}, inplace=True)\n",
    "\n",
    "# Generate artificial linear data with the same number of features and observations\n",
    "linear_X, linear_y = datasets.make_regression(n_samples=boston_df.shape[0],\n",
    "                                     n_features=boston_df.shape[1] - 1,  # Exclude target\n",
    "                                     noise=75, random_state=46)\n",
    "\n",
    "# Set feature names to x1, x2, x3, etc.\n",
    "linear_feature_names = ['X'+str(feature+1) for feature in range(linear_X.shape[1])]\n",
    "\n"
   ]
  },
  {
   "cell_type": "code",
   "execution_count": 5,
   "metadata": {},
   "outputs": [
    {
     "name": "stdout",
     "output_type": "stream",
     "text": [
      "      crim    zn  indus  chas    nox     rm   age     dis  rad  tax  ptratio  \\\n",
      "0  0.00632  18.0   2.31     0  0.538  6.575  65.2  4.0900    1  296     15.3   \n",
      "1  0.02731   0.0   7.07     0  0.469  6.421  78.9  4.9671    2  242     17.8   \n",
      "2  0.02729   0.0   7.07     0  0.469  7.185  61.1  4.9671    2  242     17.8   \n",
      "3  0.03237   0.0   2.18     0  0.458  6.998  45.8  6.0622    3  222     18.7   \n",
      "4  0.06905   0.0   2.18     0  0.458  7.147  54.2  6.0622    3  222     18.7   \n",
      "\n",
      "        b  lstat  HousePrice  \n",
      "0  396.90   4.98        24.0  \n",
      "1  396.90   9.14        21.6  \n",
      "2  392.83   4.03        34.7  \n",
      "3  394.63   2.94        33.4  \n",
      "4  396.90   5.33        36.2  \n"
     ]
    }
   ],
   "source": [
    "\n",
    "# Display the first few rows of the dataset\n",
    "print(boston_df.head())\n"
   ]
  }
 ],
 "metadata": {
  "kernelspec": {
   "display_name": "Python 3",
   "language": "python",
   "name": "python3"
  },
  "language_info": {
   "codemirror_mode": {
    "name": "ipython",
    "version": 3
   },
   "file_extension": ".py",
   "mimetype": "text/x-python",
   "name": "python",
   "nbconvert_exporter": "python",
   "pygments_lexer": "ipython3",
   "version": "3.10.0"
  }
 },
 "nbformat": 4,
 "nbformat_minor": 2
}
